{
 "cells": [
  {
   "cell_type": "code",
   "execution_count": null,
   "id": "e779ea1d-b88f-4ecf-b4d3-03ce5f27b612",
   "metadata": {},
   "outputs": [],
   "source": [
    "# install the following packages\n",
    "# pip install transformers\n",
    "# pip install datasets\n",
    "# pip install pyarrow"
   ]
  },
  {
   "cell_type": "code",
   "execution_count": null,
   "id": "97da70e0-ff45-48b9-bda7-7c26e09806dc",
   "metadata": {},
   "outputs": [],
   "source": [
    "import pyarrow.parquet as pq"
   ]
  },
  {
   "cell_type": "code",
   "execution_count": 4,
   "id": "f76ae649-1920-4f8f-a539-c5e68f195ee2",
   "metadata": {},
   "outputs": [],
   "source": [
    "from datasets import load_dataset"
   ]
  },
  {
   "cell_type": "code",
   "execution_count": 5,
   "id": "a4b42989-4999-4921-9e86-ff53118f7c3f",
   "metadata": {},
   "outputs": [],
   "source": [
    "from datasets import Dataset"
   ]
  },
  {
   "cell_type": "code",
   "execution_count": null,
   "id": "d866022a-caef-40f5-8f72-f5d206f6a0bf",
   "metadata": {},
   "outputs": [],
   "source": [
    "# local_file_path = file path of the file\n",
    "local_file_path = \"\" # Enter the file path of the Parquet file\n",
    "dset = Dataset(pq.read_table(local_file_path, memory_map=True))"
   ]
  },
  {
   "cell_type": "code",
   "execution_count": 7,
   "id": "04a3b910-d432-44ab-bc54-d4a3253d35aa",
   "metadata": {},
   "outputs": [
    {
     "data": {
      "text/plain": [
       "['domain', 'source_language', 'target_language', 'source_text', 'target_text']"
      ]
     },
     "execution_count": 7,
     "metadata": {},
     "output_type": "execute_result"
    }
   ],
   "source": [
    "dset.column_names"
   ]
  },
  {
   "cell_type": "code",
   "execution_count": 9,
   "id": "8f1bcf5c-02bd-4e53-8cd6-fc0428c9028f",
   "metadata": {},
   "outputs": [
    {
     "data": {
      "text/plain": [
       "(1549368, 5)"
      ]
     },
     "execution_count": 9,
     "metadata": {},
     "output_type": "execute_result"
    }
   ],
   "source": [
    "dset.data.shape"
   ]
  },
  {
   "cell_type": "code",
   "execution_count": 23,
   "id": "ab310606-b461-4945-908e-008ec931b9a2",
   "metadata": {},
   "outputs": [
    {
     "data": {
      "text/plain": [
       "<pyarrow.StringScalar: 'వారు మీలో స్ఫూర్తిని నింపుతున్నారా?'>"
      ]
     },
     "execution_count": 23,
     "metadata": {},
     "output_type": "execute_result"
    }
   ],
   "source": [
    "dset.data['source_text'][4] # you can use column_name and index to get the data"
   ]
  },
  {
   "cell_type": "code",
   "execution_count": 24,
   "id": "975f620e-ec46-49c1-922f-3989156795cc",
   "metadata": {},
   "outputs": [
    {
     "data": {
      "text/plain": [
       "'వారు మీలో స్ఫూర్తిని నింపుతున్నారా?'"
      ]
     },
     "execution_count": 24,
     "metadata": {},
     "output_type": "execute_result"
    }
   ],
   "source": [
    "str(dset.data['source_text'][4]) # use str function to get the data in string format"
   ]
  },
  {
   "cell_type": "code",
   "execution_count": null,
   "id": "594d9581-17d9-494e-868f-cc3996af83bf",
   "metadata": {},
   "outputs": [],
   "source": []
  }
 ],
 "metadata": {
  "kernelspec": {
   "display_name": "Python 3 (ipykernel)",
   "language": "python",
   "name": "python3"
  },
  "language_info": {
   "codemirror_mode": {
    "name": "ipython",
    "version": 3
   },
   "file_extension": ".py",
   "mimetype": "text/x-python",
   "name": "python",
   "nbconvert_exporter": "python",
   "pygments_lexer": "ipython3",
   "version": "3.12.9"
  }
 },
 "nbformat": 4,
 "nbformat_minor": 5
}
